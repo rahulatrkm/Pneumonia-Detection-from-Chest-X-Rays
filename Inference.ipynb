{
 "cells": [
  {
   "cell_type": "code",
   "execution_count": 23,
   "metadata": {},
   "outputs": [],
   "source": [
    "import numpy as np\n",
    "import pandas as pd\n",
    "import pydicom\n",
    "%matplotlib inline\n",
    "import matplotlib.pyplot as plt\n",
    "import tensorflow as tf\n",
    "import keras \n",
    "from keras.models import model_from_json\n",
    "from skimage.transform import resize"
   ]
  },
  {
   "cell_type": "code",
   "execution_count": 24,
   "metadata": {},
   "outputs": [],
   "source": [
    "# This function reads in a .dcm file, checks the important fields for our device, and returns a numpy array\n",
    "# of just the imaging data\n",
    "def check_dicom(filename): \n",
    "    print('Load file {} ...'.format(filename))\n",
    "    ds = pydicom.dcmread(filename)\n",
    "    img = ds.pixel_array\n",
    "    img_mean = np.mean(img)\n",
    "    img_std = np.std(img)\n",
    "    return img, img_mean, img_std\n",
    "    \n",
    "    \n",
    "# This function takes the numpy array output by check_dicom and \n",
    "# runs the appropriate pre-processing needed for our model input\n",
    "def preprocess_image(img,img_mean,img_std,img_size): \n",
    "    proc_img = img.copy()\n",
    "    proc_img = (proc_img - img_mean)/img_std\n",
    "    proc_img = resize(img, img_size)\n",
    "    return proc_img\n",
    "\n",
    "# This function loads in our trained model w/ weights and compiles it \n",
    "def load_model(model_path, weight_path):\n",
    "    json_file = open(model_path, \"r\")\n",
    "    loaded_model_json = json_file.read()\n",
    "    json_file.close()\n",
    "    model = model_from_json(loaded_model_json)\n",
    "    model.load_weights(weight_path)\n",
    "    return model\n",
    "\n",
    "# This function uses our device's threshold parameters to predict whether or not\n",
    "# the image shows the presence of pneumonia using our trained model\n",
    "def predict_image(model, img, thresh): \n",
    "    pred_Y = model.predict(img, batch_size = 1, verbose = True)\n",
    "    prediction = ''\n",
    "    if pred_Y > thresh:\n",
    "        prediction = 'Presence of Pneumonia'\n",
    "    else:\n",
    "        prediction = 'Absence of Pneumonia'\n",
    "    return prediction "
   ]
  },
  {
   "cell_type": "code",
   "execution_count": 26,
   "metadata": {},
   "outputs": [
    {
     "name": "stdout",
     "output_type": "stream",
     "text": [
      "Load file test1.dcm ...\n",
      "1/1 [==============================] - 1s 581ms/step\n",
      "Presence of Pneumonia\n",
      "Load file test2.dcm ...\n",
      "1/1 [==============================] - 1s 518ms/step\n",
      "Presence of Pneumonia\n",
      "Load file test3.dcm ...\n",
      "1/1 [==============================] - 1s 534ms/step\n",
      "Presence of Pneumonia\n",
      "Load file test4.dcm ...\n",
      "1/1 [==============================] - 1s 524ms/step\n",
      "Presence of Pneumonia\n",
      "Load file test5.dcm ...\n",
      "1/1 [==============================] - 1s 516ms/step\n",
      "Presence of Pneumonia\n",
      "Load file test6.dcm ...\n",
      "1/1 [==============================] - 1s 518ms/step\n",
      "Presence of Pneumonia\n"
     ]
    }
   ],
   "source": [
    "test_dicoms = ['test1.dcm','test2.dcm','test3.dcm','test4.dcm','test5.dcm','test6.dcm']\n",
    "\n",
    "model_path = \"my_model.json\" #path to saved model\n",
    "weight_path = \"my_model.hdf5\" #path to saved best weights\n",
    "\n",
    "IMG_SIZE=(1,224,224,3) # This might be different if you did not use vgg16\n",
    "\n",
    "my_model = load_model(model_path, weight_path) #loads model\n",
    "thresh = 0.35451794 #loads the threshold they chose for model classification \n",
    "\n",
    "# use the .dcm files to test your prediction\n",
    "for i in test_dicoms:\n",
    "    img = np.array([])\n",
    "    img, img_mean, img_std = check_dicom(i)\n",
    "    \n",
    "    if img is None:\n",
    "        continue\n",
    "        \n",
    "    img_proc = preprocess_image(img,img_mean,img_std,IMG_SIZE)\n",
    "    pred = predict_image(my_model,img_proc,thresh)\n",
    "    print(pred)"
   ]
  }
 ],
 "metadata": {
  "kernelspec": {
   "display_name": "Python 3",
   "language": "python",
   "name": "python3"
  },
  "language_info": {
   "codemirror_mode": {
    "name": "ipython",
    "version": 3
   },
   "file_extension": ".py",
   "mimetype": "text/x-python",
   "name": "python",
   "nbconvert_exporter": "python",
   "pygments_lexer": "ipython3",
   "version": "3.7.6"
  }
 },
 "nbformat": 4,
 "nbformat_minor": 2
}
